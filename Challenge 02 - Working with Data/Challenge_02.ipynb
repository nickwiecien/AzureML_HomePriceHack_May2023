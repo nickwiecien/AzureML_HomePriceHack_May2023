{
 "cells": [
  {
   "cell_type": "markdown",
   "id": "62d4b4a6-df5d-4117-9fdd-00f338089e96",
   "metadata": {},
   "source": [
    "## Connect to Azure ML Workspace using the AML SDK\n",
    "The code snippet below retrieves a reference to your AML workspace - you can interact directly with resources in your workspace via the SDK, similar to how you can use the Studio UI."
   ]
  },
  {
   "cell_type": "code",
   "execution_count": null,
   "id": "834f7575-6e1a-47ab-a00b-24ee49512ea2",
   "metadata": {},
   "outputs": [],
   "source": [
    "from azureml.core import Workspace\n",
    "\n",
    "ws = Workspace.from_config()\n",
    "print(ws.name, ws.resource_group, ws.location, ws.subscription_id, sep = '\\n')"
   ]
  },
  {
   "cell_type": "markdown",
   "id": "da43c465-cb8d-4ff4-9351-c0d1e5d33230",
   "metadata": {},
   "source": [
    "## Load & Review Dataset\n",
    "Update the code snippet below to retrieve your dataset from the workspace by name and display as a pandas dataframe. <i>Note:</i> If you get stuck, take a look at your dataset in the AML Studio UI and review the constent under the `Consume` tab.\n"
   ]
  },
  {
   "cell_type": "code",
   "execution_count": null,
   "id": "b75fe2df-0d26-40eb-beb7-7520d6b459db",
   "metadata": {},
   "outputs": [],
   "source": [
    "from azureml.core import Dataset\n",
    "\n",
    "# TO-DO:\n",
    "# - Update the variable called `dataset_name` to the name of the dataset you created in the AML studio\n",
    "# - Uncomment and update the dataset syntax below \n",
    "dataset_name = \"<YOUR-DATASET-NAME>\"\n",
    "# aml_dataset = ...?\n",
    "\n",
    "aml_dataframe = aml_dataset.to_pandas_dataframe()\n",
    "\n",
    "aml_dataframe.head(10)"
   ]
  }
 ],
 "metadata": {
  "kernelspec": {
   "display_name": "Python 3.8 - AzureML",
   "language": "python",
   "name": "python38-azureml"
  },
  "language_info": {
   "codemirror_mode": {
    "name": "ipython",
    "version": 3
   },
   "file_extension": ".py",
   "mimetype": "text/x-python",
   "name": "python",
   "nbconvert_exporter": "python",
   "pygments_lexer": "ipython3",
   "version": "3.8.5"
  }
 },
 "nbformat": 4,
 "nbformat_minor": 5
}
