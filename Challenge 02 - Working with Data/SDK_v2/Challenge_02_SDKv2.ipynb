{
 "cells": [
  {
   "cell_type": "markdown",
   "id": "fc0d1a05-5f45-4b06-a92e-1eb6c9d9d329",
   "metadata": {},
   "source": [
    "## Connect to Azure ML Workspace using the v2 AML SDK\n",
    "The code snippet below retrieves a reference to your AML workspace - you can interact directly with resources in your workspace via the SDK, similar to how you can use the Studio UI.\n",
    "\n",
    "<b>Note:</b> If running from an Azure Machine Learning Compute Instance, select the `Python 3.10 - SDK v2` kernel as this has the updated AML v2 SDK pre-installed."
   ]
  },
  {
   "cell_type": "code",
   "execution_count": null,
   "id": "8c4f5395-e6d4-4ec8-8d6c-02f5710ffa49",
   "metadata": {},
   "outputs": [],
   "source": [
    "from azure.ai.ml import MLClient\n",
    "from azure.identity import DefaultAzureCredential\n",
    "import mltable\n",
    "\n",
    "ml_client = MLClient.from_config(credential=DefaultAzureCredential())\n",
    "\n",
    "print(ml_client)"
   ]
  },
  {
   "cell_type": "markdown",
   "id": "835f9060-b986-4a61-b7b0-54af9234ec4c",
   "metadata": {},
   "source": [
    "## Load & Review Dataset\n",
    "Update the code snippet below to retrieve your dataset from the workspace by name and display as a pandas dataframe. Note: If you get stuck, take a look at the section titled [Reading Data Assets](https://learn.microsoft.com/en-us/azure/machine-learning/how-to-mltable?tabs=Python-SDK%2Cpandas%2Cadls#reading-data-assets) in the attached link."
   ]
  },
  {
   "cell_type": "code",
   "execution_count": null,
   "id": "e989eb3c-0d42-4450-b13c-1361c601ab44",
   "metadata": {},
   "outputs": [],
   "source": [
    "from azureml.core import Dataset\n",
    "\n",
    "# TO-DO:\n",
    "# - Update the variable called `dataset_name` to the name of the dataset you created in the AML studio\n",
    "# - Uncomment and update the dataset syntax below \n",
    "dataset_name = \"<YOUR-DATASET-NAME>\"\n",
    "# aml_dataset = ...?\n",
    "\n",
    "aml_tbl = mltable.load(f'azureml:/{aml_dataset.id}')\n",
    "df = aml_tbl.to_pandas_dataframe()\n",
    "df"
   ]
  }
 ],
 "metadata": {
  "kernelspec": {
   "display_name": "Python 3.10 - SDK v2",
   "language": "python",
   "name": "python310-sdkv2"
  },
  "language_info": {
   "codemirror_mode": {
    "name": "ipython",
    "version": 3
   },
   "file_extension": ".py",
   "mimetype": "text/x-python",
   "name": "python",
   "nbconvert_exporter": "python",
   "pygments_lexer": "ipython3",
   "version": "3.10.9"
  }
 },
 "nbformat": 4,
 "nbformat_minor": 5
}
