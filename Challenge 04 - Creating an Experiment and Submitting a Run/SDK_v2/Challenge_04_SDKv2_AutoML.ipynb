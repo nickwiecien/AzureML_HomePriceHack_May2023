{
 "cells": [
  {
   "cell_type": "markdown",
   "id": "dc47bf42-5494-4e20-b96b-62b5791c5e3f",
   "metadata": {},
   "source": [
    "## Connect to Azure ML Workspace using the v2 AML SDK\n",
    "The code snippet below retrieves a reference to your AML workspace - you can interact directly with resources in your workspace via the SDK, similar to how you can use the Studio UI.\n",
    "\n",
    "<b>Note:</b> If running from an Azure Machine Learning Compute Instance, select the `Python 3.10 - SDK v2` kernel as this has the updated AML v2 SDK pre-installed."
   ]
  },
  {
   "cell_type": "code",
   "execution_count": null,
   "id": "1c6f5f55-60fd-40ba-9ce9-588eea632219",
   "metadata": {},
   "outputs": [],
   "source": [
    "from azure.ai.ml import MLClient, command, automl\n",
    "from azure.ai.ml.entities import Environment\n",
    "from azure.ai.ml import Input, Output\n",
    "from azure.ai.ml.constants import AssetTypes, InputOutputModes\n",
    "from azure.identity import DefaultAzureCredential\n",
    "import mltable\n",
    "\n",
    "ml_client = MLClient.from_config(credential=DefaultAzureCredential())\n",
    "\n",
    "print(ml_client)"
   ]
  },
  {
   "cell_type": "markdown",
   "id": "8ed1fb74-1643-4151-b2db-e5b08d02bc61",
   "metadata": {},
   "source": [
    "## Define variables\n",
    "Names of relevant AML resources"
   ]
  },
  {
   "cell_type": "code",
   "execution_count": null,
   "id": "1e020a2c-8e40-426a-9b4a-f849881def13",
   "metadata": {},
   "outputs": [],
   "source": [
    "# TO-DO: UPDATE THE VARIABLE VALUES BELOW\n",
    "\n",
    "experiment_name = \"<YOUR-EXPERIMENT-NAME>\" \n",
    "compute_cluster = \"<YOUR-COMPUTE-CLUSTER-NAME>\""
   ]
  },
  {
   "cell_type": "markdown",
   "id": "95b0b91b-316c-419c-bd61-785234cf7609",
   "metadata": {},
   "source": [
    "### Select input dataset"
   ]
  },
  {
   "cell_type": "code",
   "execution_count": null,
   "id": "046515fb-1e27-4ed0-91cb-92145ec212a7",
   "metadata": {},
   "outputs": [],
   "source": [
    "# TO-DO: GET A REFERENCE TO YOUR REGISTERED HOME PRICE DATASET BY NAME AND VERSION\n",
    "dataset_name = '<YOUR-DATASET-NAME>'\n",
    "dataset_version = '<YOUR-DATASET-VERSION>'\n",
    "filedataset_asset = ml_client.data.get(name=dataset_name, version=dataset_version)"
   ]
  },
  {
   "attachments": {},
   "cell_type": "markdown",
   "id": "2e2277f9-775f-4575-95ec-9381d58670ce",
   "metadata": {},
   "source": [
    "### Update AutoML configuration below (optional)"
   ]
  },
  {
   "cell_type": "code",
   "execution_count": null,
   "id": "0c36f5ed-ec04-4536-8e83-c9da9e6d6470",
   "metadata": {},
   "outputs": [],
   "source": [
    "# Create the AutoML classification job with the related factory-function.\n",
    "regression_job = automl.regression(\n",
    "    compute=\"cpucluster-nwk\",\n",
    "    experiment_name=experiment_name,\n",
    "    training_data=Input(\n",
    "            type=AssetTypes.MLTABLE, \n",
    "            path=filedataset_asset.id,\n",
    "            mode=InputOutputModes.DIRECT\n",
    "    ),\n",
    "    target_column_name=\"MEDV\",\n",
    "    primary_metric=\"NORMALIZED_ROOT_MEAN_SQUARED_ERROR\",\n",
    "    n_cross_validations=5,\n",
    "    enable_model_explainability=True\n",
    ")\n",
    "\n",
    "# Limits are all optional\n",
    "regression_job.set_limits(\n",
    "    timeout_minutes=600,\n",
    "    trial_timeout_minutes=20,\n",
    "    max_trials=50,\n",
    "    max_concurrent_trials = 1,\n",
    "    max_cores_per_trial= 1,\n",
    "    enable_early_termination=True,\n",
    ")\n",
    "\n",
    "# Training properties are optional\n",
    "regression_job.set_training(\n",
    "    enable_onnx_compatible_models=True,\n",
    ")"
   ]
  },
  {
   "cell_type": "markdown",
   "id": "98fc44cd-de2a-4802-8fb9-52c14d5aec7a",
   "metadata": {},
   "source": [
    "### Submit command job as new experiment"
   ]
  },
  {
   "cell_type": "code",
   "execution_count": null,
   "id": "1b2f9ea0-e066-482b-8d39-252b57a7329e",
   "metadata": {},
   "outputs": [],
   "source": [
    "# Submit the AutoML job\n",
    "returned_job = ml_client.jobs.create_or_update(regression_job)  \n",
    "returned_job"
   ]
  }
 ],
 "metadata": {
  "kernelspec": {
   "display_name": "Python 3.10 - SDK v2",
   "language": "python",
   "name": "python310-sdkv2"
  },
  "language_info": {
   "codemirror_mode": {
    "name": "ipython",
    "version": 3
   },
   "file_extension": ".py",
   "mimetype": "text/x-python",
   "name": "python",
   "nbconvert_exporter": "python",
   "pygments_lexer": "ipython3",
   "version": "3.10.9"
  }
 },
 "nbformat": 4,
 "nbformat_minor": 5
}
