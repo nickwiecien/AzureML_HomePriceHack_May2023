{
 "cells": [
  {
   "cell_type": "markdown",
   "id": "dc47bf42-5494-4e20-b96b-62b5791c5e3f",
   "metadata": {},
   "source": [
    "## Connect to Azure ML Workspace using the v2 AML SDK\n",
    "The code snippet below retrieves a reference to your AML workspace - you can interact directly with resources in your workspace via the SDK, similar to how you can use the Studio UI.\n",
    "\n",
    "<b>Note:</b> If running from an Azure Machine Learning Compute Instance, select the `Python 3.10 - SDK v2` kernel as this has the updated AML v2 SDK pre-installed."
   ]
  },
  {
   "cell_type": "code",
   "execution_count": null,
   "id": "1c6f5f55-60fd-40ba-9ce9-588eea632219",
   "metadata": {},
   "outputs": [],
   "source": [
    "from azure.ai.ml import MLClient, command\n",
    "from azure.ai.ml.entities import Environment\n",
    "from azure.ai.ml import Input, Output\n",
    "from azure.ai.ml.constants import AssetTypes, InputOutputModes\n",
    "from azure.identity import DefaultAzureCredential\n",
    "import mltable\n",
    "\n",
    "ml_client = MLClient.from_config(credential=DefaultAzureCredential())\n",
    "\n",
    "print(ml_client)"
   ]
  },
  {
   "cell_type": "markdown",
   "id": "8ed1fb74-1643-4151-b2db-e5b08d02bc61",
   "metadata": {},
   "source": [
    "## Define variables\n",
    "Names of relevant AML resources"
   ]
  },
  {
   "cell_type": "code",
   "execution_count": null,
   "id": "1e020a2c-8e40-426a-9b4a-f849881def13",
   "metadata": {},
   "outputs": [],
   "source": [
    "# TO-DO: UPDATE THE VARIABLE VALUES BELOW\n",
    "\n",
    "experiment_name = \"<YOUR-EXPERIMENT-NAME>\" \n",
    "compute_cluster = \"<YOUR-COMPUTE-CLUSTER-NAME>\""
   ]
  },
  {
   "cell_type": "markdown",
   "id": "8905d973-b62f-4137-b523-98803ff23a0a",
   "metadata": {},
   "source": [
    "## Create and register an environment\n",
    "Using linked conda yaml file"
   ]
  },
  {
   "cell_type": "code",
   "execution_count": null,
   "id": "35931933-9ad8-4692-9031-750cd49ad0c8",
   "metadata": {},
   "outputs": [],
   "source": [
    "# TO-DO: CREATE AN ENVIRONMENT FOR YOUR EXPERIMENT USING THE VALUES BELOW\n",
    "\n",
    "# Base image: mcr.microsoft.com/azureml/openmpi3.1.2-ubuntu18.04\n",
    "# Conda file: sklearn_env.yml\n",
    "# Name: yourinitials-sklearn-env\n",
    "\n",
    "env = ...?\n",
    "\n",
    "ml_client.environments.create_or_update(env)"
   ]
  },
  {
   "cell_type": "markdown",
   "id": "95b0b91b-316c-419c-bd61-785234cf7609",
   "metadata": {},
   "source": [
    "### Select input dataset"
   ]
  },
  {
   "cell_type": "code",
   "execution_count": null,
   "id": "046515fb-1e27-4ed0-91cb-92145ec212a7",
   "metadata": {},
   "outputs": [],
   "source": [
    "# TO-DO: GET A REFERENCE TO YOUR REGISTERED HOME PRICE DATASET BY NAME AND VERSION\n",
    "dataset_name = '<YOUR-DATASET-NAME>'\n",
    "dataset_version = '<YOUR-DATASET-VERSION>'\n",
    "filedataset_asset = ml_client.data.get(name=dataset_name, version=dataset_version)"
   ]
  },
  {
   "cell_type": "markdown",
   "id": "2e2277f9-775f-4575-95ec-9381d58670ce",
   "metadata": {},
   "source": [
    "### Update command job inputs"
   ]
  },
  {
   "cell_type": "code",
   "execution_count": null,
   "id": "0c36f5ed-ec04-4536-8e83-c9da9e6d6470",
   "metadata": {},
   "outputs": [],
   "source": [
    "# TO-DO: UPDATE THE JOB INPUTS DICTIONARY BELOW TO INCLUDE THE FOLLOWING VALUES:\n",
    "# target_column: (type: string, default value: MEDV)\n",
    "# test_percent: (type: number, default value: 0.15)\n",
    "# model_name: (type: string, default value: YOURINITIALS-HOME-PRICE-PREDICTION)\n",
    "\n",
    "job_inputs = {\n",
    "    'input_data': Input(\n",
    "            type=AssetTypes.MLTABLE, \n",
    "            path=filedataset_asset.id,\n",
    "            mode=InputOutputModes.DIRECT\n",
    "    ),\n",
    "}\n"
   ]
  },
  {
   "cell_type": "markdown",
   "id": "98fc44cd-de2a-4802-8fb9-52c14d5aec7a",
   "metadata": {},
   "source": [
    "### Submit command job as new experiment"
   ]
  },
  {
   "cell_type": "code",
   "execution_count": null,
   "id": "1b2f9ea0-e066-482b-8d39-252b57a7329e",
   "metadata": {},
   "outputs": [],
   "source": [
    "# TO-DO: UPDATE THE PARAMETERS PASSED TO THE COMMAND JOB BELOW\n",
    "\n",
    "command_job = command(\n",
    "    code=\".\",  # local path where the code is stored\n",
    "    command=\"python train.py --inputs ${{inputs.input_data}} --target_column ${{inputs.target_column}} --model_name ${{inputs.model_name}} --test_percent ${{inputs.test_percent}}\",\n",
    "    inputs=job_inputs,\n",
    "    environment=env,\n",
    "    compute=compute_cluster\n",
    ")\n",
    "returned_job = ml_client.jobs.create_or_update(command_job(target_column='', test_percent='', model_name=''), experiment_name=experiment_name)\n",
    "returned_job"
   ]
  }
 ],
 "metadata": {
  "kernelspec": {
   "display_name": "Python 3.10 - SDK v2",
   "language": "python",
   "name": "python310-sdkv2"
  },
  "language_info": {
   "codemirror_mode": {
    "name": "ipython",
    "version": 3
   },
   "file_extension": ".py",
   "mimetype": "text/x-python",
   "name": "python",
   "nbconvert_exporter": "python",
   "pygments_lexer": "ipython3",
   "version": "3.10.9"
  }
 },
 "nbformat": 4,
 "nbformat_minor": 5
}
