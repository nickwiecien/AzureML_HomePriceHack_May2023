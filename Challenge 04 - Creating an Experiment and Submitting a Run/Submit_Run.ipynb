{
 "cells": [
  {
   "cell_type": "markdown",
   "id": "0431d7b1-038d-4cdc-9791-b3efa03c8e1e",
   "metadata": {},
   "source": [
    "## Connect to Azure ML Workspace using the AML SDK\n",
    "The code snippet below retrieves a reference to your AML workspace - you can interact directly with resources in your workspace via the SDK, similar to how you can use the Studio UI."
   ]
  },
  {
   "cell_type": "code",
   "execution_count": null,
   "id": "8e0c21d7-2189-4d3d-a8d3-f2c514189860",
   "metadata": {},
   "outputs": [],
   "source": [
    "from azureml.core import Workspace\n",
    "\n",
    "ws = Workspace.from_config()\n",
    "print(ws.name, ws.resource_group, ws.location, ws.subscription_id, sep = '\\n')"
   ]
  },
  {
   "cell_type": "markdown",
   "id": "c6dc252a-d8d9-4755-a1a3-84ee165fa981",
   "metadata": {},
   "source": [
    "## Create an Experiment\n",
    "Experiments are logical containers of script runs which can hold different metrics and experiments. <b>Hint:</b> if you get stuck on the components below, run a search online for `azure ml sdk CLASS_NAME` to find relevant docs."
   ]
  },
  {
   "cell_type": "code",
   "execution_count": null,
   "id": "7535b963-9a64-46ed-bd4f-e3eb1b5c9f2b",
   "metadata": {},
   "outputs": [],
   "source": [
    "from azureml.core import Experiment\n",
    "\n",
    "# TO-DO:\n",
    "# Update the experiment_name variable below to 'yourinitials_home_price_model_training_custom_script`\n",
    "# Uncomment and create an Experiment object using the AML SDK\n",
    "\n",
    "experiment_name = \"<YOUR-EXPERIMENT-NAME>\"\n",
    "# experiment = ...?"
   ]
  },
  {
   "cell_type": "markdown",
   "id": "14d88ef1-c787-46a6-bc5f-ca3aa4392b43",
   "metadata": {},
   "source": [
    "## Retrieve a Reference to Compute Cluster\n",
    "Get a pointer to your created AML Compute Cluster (`cpucluster-yourinitials`). You will use this as the compute engine for executing your script run."
   ]
  },
  {
   "cell_type": "code",
   "execution_count": null,
   "id": "cef8bf9e-02c8-4c3e-8d75-5646fb665623",
   "metadata": {},
   "outputs": [],
   "source": [
    "from azureml.core.compute import ComputeTarget\n",
    "\n",
    "# TO-DO:\n",
    "# Update the cpu_cluster_name variable below to the name of the cluster you previously created (cpucluster-yourinitials)\n",
    "# Uncomment and retrieve a pointer to your ComputeTarget for cpu_cluster\n",
    "\n",
    "cpu_cluster_name = \"<YOUR-COMPUTE-TARGET-NAME>\"\n",
    "# cpu_cluster = ...?"
   ]
  },
  {
   "attachments": {},
   "cell_type": "markdown",
   "id": "7ac448ec-fb5e-4e49-a0cc-a9b28dcde952",
   "metadata": {},
   "source": [
    "## Create and Register an Environment\n",
    "AML environments are reusable software environments that contain dependencies for model training/inferencing operations. These environments can be manually created, packaged into reusable docker containers, and then leveraged time and again for different MLOps activities.\n",
    "\n",
    "Create and register a new environment from the exported conda yaml environment definition (`sklearn_env.yml`). \n",
    "\n",
    "<i>Hint:</i> The [`Environment` class definition reference](https://learn.microsoft.com/en-us/python/api/azureml-core/azureml.core.environment(class)?view=azure-ml-py) showcases multiple ways to construct a new environment, including from a conda specification. "
   ]
  },
  {
   "cell_type": "code",
   "execution_count": null,
   "id": "850e4d42-da95-49e0-a43f-dad8394936a1",
   "metadata": {},
   "outputs": [],
   "source": [
    "from azureml.core import Environment\n",
    "from azureml.core.runconfig import DockerConfiguration\n",
    "from azureml.core.conda_dependencies import CondaDependencies\n",
    "\n",
    "# TO-DO:\n",
    "# Update environment name\n",
    "# Create environment from a .yml file (sklearn_env.yml)\n",
    "# Register (save & version) your environment in your workspace\n",
    "\n",
    "env_name = \"NWK-ENV\"\n",
    "env = Environment.from_conda_specification(name=env_name, file_path=\"sklearn_env.yml\")\n",
    "\n",
    "# Register (save & version) your environment in your workspace\n",
    "\n",
    "docker_config = DockerConfiguration(use_docker=True)"
   ]
  },
  {
   "attachments": {},
   "cell_type": "markdown",
   "id": "604229c0-ae57-4962-b4b0-b89f91c13e44",
   "metadata": {},
   "source": [
    "## Submit a Script Run\n",
    "The ScriptRunConfig object below defines the script that will be run, compute that will be used to for the execution, and environment which the script will be run from.\n",
    "\n",
    "Here, we are setting up a ScriptRun for the `train.py` file - some changes need to be made to this file in order for the run to complete at expected."
   ]
  },
  {
   "cell_type": "code",
   "execution_count": null,
   "id": "8cf6082a-d462-4ef2-a7d9-53da528da688",
   "metadata": {},
   "outputs": [],
   "source": [
    "from azureml.core import ScriptRunConfig\n",
    "\n",
    "src = ScriptRunConfig(source_directory='.', \n",
    "                      script='train.py', \n",
    "                      compute_target=cpu_cluster, \n",
    "                      environment=env,\n",
    "                      docker_runtime_config=docker_config)\n",
    " \n",
    "run = experiment.submit(config=src)\n",
    "run"
   ]
  },
  {
   "cell_type": "markdown",
   "id": "83c4cef9-94b9-456c-83ad-210834cb70a7",
   "metadata": {},
   "source": [
    "## Display Run Metrics"
   ]
  },
  {
   "cell_type": "code",
   "execution_count": null,
   "id": "d47fab2d-e6f9-4664-9956-bc98f8e32003",
   "metadata": {},
   "outputs": [],
   "source": [
    "run.wait_for_completion(show_output=True)\n",
    "run.get_metrics()"
   ]
  }
 ],
 "metadata": {
  "kernelspec": {
   "display_name": "Python 3.8 - AzureML",
   "language": "python",
   "name": "python38-azureml"
  },
  "language_info": {
   "codemirror_mode": {
    "name": "ipython",
    "version": 3
   },
   "file_extension": ".py",
   "mimetype": "text/x-python",
   "name": "python",
   "nbconvert_exporter": "python",
   "pygments_lexer": "ipython3",
   "version": "3.8.5"
  }
 },
 "nbformat": 4,
 "nbformat_minor": 5
}
