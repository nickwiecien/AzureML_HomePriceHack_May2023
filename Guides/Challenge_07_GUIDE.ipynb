{
 "cells": [
  {
   "cell_type": "code",
   "execution_count": null,
   "metadata": {},
   "outputs": [],
   "source": [
    "from azureml.core import Workspace\n",
    "\n",
    "ws = Workspace.from_config()\n",
    "print(ws.name, ws.resource_group, ws.location, ws.subscription_id, sep = '\\n')"
   ]
  },
  {
   "cell_type": "code",
   "execution_count": null,
   "metadata": {},
   "outputs": [],
   "source": [
    "from azureml.pipeline.core import PipelineEndpoint\n",
    "\n",
    "pipeline_endpoint = PipelineEndpoint.get(\n",
    "    workspace=ws, name=\"NWK-PipelineEndpoint\"\n",
    ")"
   ]
  },
  {
   "cell_type": "code",
   "execution_count": null,
   "metadata": {},
   "outputs": [],
   "source": [
    "from azureml.pipeline.core import ScheduleRecurrence, TimeZone\n",
    "recurrence = ScheduleRecurrence(frequency=\"Week\", interval=1, time_zone=TimeZone.CentralStandardTime, \n",
    "                               time_of_day=\"0:10\", week_days=[\"Wednesday\"])"
   ]
  },
  {
   "cell_type": "code",
   "execution_count": null,
   "metadata": {},
   "outputs": [],
   "source": [
    "from azureml.pipeline.core import Schedule\n",
    "schedule = Schedule.create_for_pipeline_endpoint(ws, name='NWK-SCHEDULE', pipeline_endpoint_id=pipeline_endpoint.id, \n",
    "        experiment_name=\"NWK-SCHEDULEDRUN\", recurrence=recurrence)"
   ]
  },
  {
   "cell_type": "code",
   "execution_count": null,
   "metadata": {},
   "outputs": [],
   "source": [
    "Schedule.get_schedules_for_pipeline_endpoint_id(ws, pipeline_endpoint.id)"
   ]
  }
 ],
 "metadata": {
  "language_info": {
   "name": "python"
  },
  "orig_nbformat": 4
 },
 "nbformat": 4,
 "nbformat_minor": 2
}
